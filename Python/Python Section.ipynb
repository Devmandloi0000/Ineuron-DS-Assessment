{
 "cells": [
  {
   "cell_type": "markdown",
   "id": "bb8e5d3e",
   "metadata": {},
   "source": [
    "## Python "
   ]
  },
  {
   "cell_type": "markdown",
   "id": "b9e1e25e",
   "metadata": {},
   "source": [
    "#### Question 1"
   ]
  },
  {
   "cell_type": "code",
   "execution_count": 14,
   "id": "a5cb688a",
   "metadata": {},
   "outputs": [],
   "source": [
    "def generate_output(input_dict, current_key=None):\n",
    "    output = {}\n",
    "\n",
    "    for key, value in input_dict.items():\n",
    "        new_key = [key] if current_key is None else current_key + [key]\n",
    "        if isinstance(value, dict):\n",
    "            output[\"/\".join(new_key)] = list(value.keys())\n",
    "            output.update(generate_output(value, new_key))\n",
    "        else:\n",
    "            output[\"/\".join(new_key)] = [value]\n",
    "\n",
    "    return output\n"
   ]
  },
  {
   "cell_type": "code",
   "execution_count": 15,
   "id": "f653ce21",
   "metadata": {},
   "outputs": [],
   "source": [
    "input_dict = {\"abc\":{\"def\":{\"ghi\":{\"jkl\":{\"mno\":{\"pqr\":{\"stu\":{\"vwx\":{\"yz\":\"you are finally here !!!\"}}}}}}}}}\n",
    "result = generate_output(input_dict)\n",
    "result = {key: values for key, values in result.items()}"
   ]
  },
  {
   "cell_type": "code",
   "execution_count": 16,
   "id": "14ecb467",
   "metadata": {},
   "outputs": [
    {
     "name": "stdout",
     "output_type": "stream",
     "text": [
      "{'abc': ['def'], 'abc/def': ['ghi'], 'abc/def/ghi': ['jkl'], 'abc/def/ghi/jkl': ['mno'], 'abc/def/ghi/jkl/mno': ['pqr'], 'abc/def/ghi/jkl/mno/pqr': ['stu'], 'abc/def/ghi/jkl/mno/pqr/stu': ['vwx'], 'abc/def/ghi/jkl/mno/pqr/stu/vwx': ['yz'], 'abc/def/ghi/jkl/mno/pqr/stu/vwx/yz': ['you are finally here !!!']}\n"
     ]
    }
   ],
   "source": [
    "\n",
    "print(result)"
   ]
  },
  {
   "cell_type": "markdown",
   "id": "c474873e",
   "metadata": {},
   "source": [
    "### Question 2"
   ]
  },
  {
   "cell_type": "code",
   "execution_count": 17,
   "id": "6f956a2e",
   "metadata": {},
   "outputs": [
    {
     "name": "stdout",
     "output_type": "stream",
     "text": [
      "Largest minimum distance: 3\n"
     ]
    }
   ],
   "source": [
    "def min_distance_between_horses(stalls, k):\n",
    "    stalls.sort()\n",
    "\n",
    "    low, high = 0, stalls[-1] - stalls[0]\n",
    "    result = 0\n",
    "\n",
    "    while low <= high:\n",
    "        mid = (low + high) // 2\n",
    "\n",
    "        if is_valid_distance(stalls, k, mid):\n",
    "            result = mid\n",
    "            low = mid + 1\n",
    "        else:\n",
    "            high = mid - 1\n",
    "\n",
    "    return result\n",
    "\n",
    "def is_valid_distance(stalls, k, distance):\n",
    "    horses_placed = 1\n",
    "    current_stall = stalls[0]\n",
    "\n",
    "    for stall in stalls:\n",
    "        if stall - current_stall >= distance:\n",
    "            horses_placed += 1\n",
    "            current_stall = stall\n",
    "\n",
    "    return horses_placed >= k\n",
    "\n",
    "# Example usage\n",
    "stalls = [1, 2, 4, 8, 9]\n",
    "k = 3\n",
    "result = min_distance_between_horses(stalls, k)\n",
    "print(\"Largest minimum distance:\", result)\n"
   ]
  },
  {
   "cell_type": "markdown",
   "id": "1a9c6385",
   "metadata": {},
   "source": [
    "### Question 4"
   ]
  },
  {
   "cell_type": "code",
   "execution_count": 19,
   "id": "0cda19e0",
   "metadata": {},
   "outputs": [],
   "source": [
    "def four_sum(nums, target):\n",
    "    nums.sort()\n",
    "    result = []\n",
    "\n",
    "    for i in range(len(nums) - 3):\n",
    "        if i > 0 and nums[i] == nums[i - 1]:\n",
    "            continue\n",
    "\n",
    "        for j in range(i + 1, len(nums) - 2):\n",
    "            if j > i + 1 and nums[j] == nums[j - 1]:\n",
    "                continue\n",
    "\n",
    "            left, right = j + 1, len(nums) - 1\n",
    "\n",
    "            while left < right:\n",
    "                current_sum = nums[i] + nums[j] + nums[left] + nums[right]\n",
    "\n",
    "                if current_sum == target:\n",
    "                    result.append([nums[i], nums[j], nums[left], nums[right]])\n",
    "\n",
    "                    while left < right and nums[left] == nums[left + 1]:\n",
    "                        left += 1\n",
    "                    while left < right and nums[right] == nums[right - 1]:\n",
    "                        right -= 1\n",
    "\n",
    "                    left += 1\n",
    "                    right -= 1\n",
    "                elif current_sum < target:\n",
    "                    left += 1\n",
    "                else:\n",
    "                    right -= 1\n",
    "\n",
    "    return result\n",
    "\n"
   ]
  },
  {
   "cell_type": "code",
   "execution_count": 21,
   "id": "57e84be3",
   "metadata": {},
   "outputs": [
    {
     "name": "stdout",
     "output_type": "stream",
     "text": [
      "NUmber [[-2, -1, 1, 2], [-2, 0, 0, 2], [-1, 0, 0, 1]]\n"
     ]
    }
   ],
   "source": [
    "nums = [1, 0, -1, 0, -2, 2]\n",
    "target = 0\n",
    "result = four_sum(nums, target)\n",
    "print(\"NUmber\", result)"
   ]
  },
  {
   "cell_type": "code",
   "execution_count": null,
   "id": "f15330bf",
   "metadata": {},
   "outputs": [],
   "source": []
  }
 ],
 "metadata": {
  "kernelspec": {
   "display_name": "Python 3 (ipykernel)",
   "language": "python",
   "name": "python3"
  },
  "language_info": {
   "codemirror_mode": {
    "name": "ipython",
    "version": 3
   },
   "file_extension": ".py",
   "mimetype": "text/x-python",
   "name": "python",
   "nbconvert_exporter": "python",
   "pygments_lexer": "ipython3",
   "version": "3.11.4"
  }
 },
 "nbformat": 4,
 "nbformat_minor": 5
}
